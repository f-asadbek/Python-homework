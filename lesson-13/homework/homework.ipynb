{
 "cells": [
  {
   "metadata": {},
   "cell_type": "markdown",
   "source": "Task 1\n",
   "id": "37025c41dd144683"
  },
  {
   "metadata": {
    "collapsed": true,
    "ExecuteTime": {
     "end_time": "2025-03-11T13:31:12.967080Z",
     "start_time": "2025-03-11T13:31:12.963407Z"
    }
   },
   "cell_type": "code",
   "source": [
    "import numpy as np\n",
    "# Creates an array ranging values from 10 to 49\n",
    "a = np.arange(10, 50)\n",
    "print(a)"
   ],
   "id": "initial_id",
   "outputs": [
    {
     "name": "stdout",
     "output_type": "stream",
     "text": [
      "[10 11 12 13 14 15 16 17 18 19 20 21 22 23 24 25 26 27 28 29 30 31 32 33\n",
      " 34 35 36 37 38 39 40 41 42 43 44 45 46 47 48 49]\n"
     ]
    }
   ],
   "execution_count": 27
  },
  {
   "metadata": {},
   "cell_type": "markdown",
   "source": "Task 2\n",
   "id": "452347aabbd01265"
  },
  {
   "metadata": {
    "ExecuteTime": {
     "end_time": "2025-03-11T13:31:15.169633Z",
     "start_time": "2025-03-11T13:31:15.165874Z"
    }
   },
   "cell_type": "code",
   "source": [
    "# Creates a 3x3 array ranging values from 0 to 8\n",
    "a = np.arange(0, 9).reshape(3, 3)\n",
    "print(a)"
   ],
   "id": "93c7af82b4492a18",
   "outputs": [
    {
     "name": "stdout",
     "output_type": "stream",
     "text": [
      "[[0 1 2]\n",
      " [3 4 5]\n",
      " [6 7 8]]\n"
     ]
    }
   ],
   "execution_count": 28
  },
  {
   "metadata": {},
   "cell_type": "markdown",
   "source": "Task 3",
   "id": "649385ab94912fa3"
  },
  {
   "metadata": {
    "ExecuteTime": {
     "end_time": "2025-03-11T13:52:15.976299Z",
     "start_time": "2025-03-11T13:52:15.954871Z"
    }
   },
   "cell_type": "code",
   "source": [
    "# 3x3 identity matrix\n",
    "a = np.eye(3)\n",
    "print(a)"
   ],
   "id": "bc31bcd7857b1ebb",
   "outputs": [
    {
     "name": "stdout",
     "output_type": "stream",
     "text": [
      "[[1. 0. 0.]\n",
      " [0. 1. 0.]\n",
      " [0. 0. 1.]]\n"
     ]
    }
   ],
   "execution_count": 72
  },
  {
   "metadata": {},
   "cell_type": "markdown",
   "source": "Task 4",
   "id": "fe65b13ce6c10d9"
  },
  {
   "metadata": {
    "ExecuteTime": {
     "end_time": "2025-03-11T13:53:29.088291Z",
     "start_time": "2025-03-11T13:53:29.084450Z"
    }
   },
   "cell_type": "code",
   "source": [
    "# Create a 3x3x3 array with random values\n",
    "a = np.random.rand(3, 3, 3)\n",
    "print(a)"
   ],
   "id": "75300038296b2205",
   "outputs": [
    {
     "name": "stdout",
     "output_type": "stream",
     "text": [
      "[[[0.99875 0.19999 0.60294]\n",
      "  [0.79937 0.87437 0.21821]\n",
      "  [0.85582 0.24419 0.06571]]\n",
      "\n",
      " [[0.83942 0.344   0.71341]\n",
      "  [0.18873 0.30688 0.79912]\n",
      "  [0.42447 0.58574 0.84134]]\n",
      "\n",
      " [[0.32051 0.58989 0.92727]\n",
      "  [0.69206 0.83881 0.76221]\n",
      "  [0.49966 0.4281  0.78463]]]\n"
     ]
    }
   ],
   "execution_count": 87
  },
  {
   "metadata": {},
   "cell_type": "markdown",
   "source": "Task 5",
   "id": "dc7b772887e6ed7b"
  },
  {
   "metadata": {
    "ExecuteTime": {
     "end_time": "2025-03-11T13:55:52.959476Z",
     "start_time": "2025-03-11T13:55:52.955658Z"
    }
   },
   "cell_type": "code",
   "source": [
    "# Create a 10x10 array with random values and find the minimum and maximum values\n",
    "a = np.random.rand(10, 10)\n",
    "print(f\"The maximum value: {a.max()}\")\n",
    "print(f\"The minimum value: {a.min()}\")"
   ],
   "id": "b3bf7beda45a7fd9",
   "outputs": [
    {
     "name": "stdout",
     "output_type": "stream",
     "text": [
      "The maximum value: 0.9987006674065546\n",
      "The minimum value: 0.012188040139078149\n"
     ]
    }
   ],
   "execution_count": 107
  },
  {
   "metadata": {},
   "cell_type": "markdown",
   "source": "Task 6",
   "id": "43f3e37cd2f80a0c"
  },
  {
   "metadata": {
    "ExecuteTime": {
     "end_time": "2025-03-11T14:10:49.740337Z",
     "start_time": "2025-03-11T14:10:49.737213Z"
    }
   },
   "cell_type": "code",
   "source": [
    "# Create a random vector of size 30 and find the mean value\n",
    "a = np.random.rand(30)\n",
    "print(\"The mean value:\", a.mean())"
   ],
   "id": "6298f09210614257",
   "outputs": [
    {
     "name": "stdout",
     "output_type": "stream",
     "text": [
      "The mean value: 0.5285484562240083\n"
     ]
    }
   ],
   "execution_count": 130
  },
  {
   "metadata": {},
   "cell_type": "markdown",
   "source": "Task 7",
   "id": "f1a81ec639da7037"
  },
  {
   "metadata": {
    "ExecuteTime": {
     "end_time": "2025-03-11T14:16:35.425705Z",
     "start_time": "2025-03-11T14:16:35.414057Z"
    }
   },
   "cell_type": "code",
   "source": [
    "a = np.random.rand(5, 5)\n",
    "\n",
    "# Normalize a 5x5 random matrix\n",
    "normalized = (a - np.min(a)) / (np.max(a) - np.min(a))\n",
    "print(\"The normalized value:\\n\", normalized)"
   ],
   "id": "85c0b5a23ff0fb4b",
   "outputs": [
    {
     "name": "stdout",
     "output_type": "stream",
     "text": [
      "The normalized value:\n",
      " [[0.33318 0.71538 0.66343 1.      0.31813]\n",
      " [0.39616 0.      0.68942 0.12059 0.59911]\n",
      " [0.90721 0.91958 0.64958 0.48054 0.01888]\n",
      " [0.75394 0.64847 0.69065 0.15632 0.044  ]\n",
      " [0.41416 0.00132 0.64696 0.99599 0.50059]]\n"
     ]
    }
   ],
   "execution_count": 151
  },
  {
   "metadata": {},
   "cell_type": "markdown",
   "source": "Task 8",
   "id": "46fae9af844d8d4d"
  },
  {
   "metadata": {
    "ExecuteTime": {
     "end_time": "2025-03-11T14:21:57.483201Z",
     "start_time": "2025-03-11T14:21:57.478408Z"
    }
   },
   "cell_type": "code",
   "source": [
    "# Multiply a 5x3 matrix by a 3x2 matrix (real matrix product)\n",
    "a = np.array([1, 2, 3, 4, 5, 6, 7, 8, 9, 10, 11, 12, 13, 14, 15]).reshape(5, 3)\n",
    "b = np.array([1, 2, 3, 4, 5, 6]).reshape(3, 2)\n",
    "result = a @ b\n",
    "print(\"The real matrix product:\\n\", result)"
   ],
   "id": "4a5c840a08c23f2b",
   "outputs": [
    {
     "name": "stdout",
     "output_type": "stream",
     "text": [
      "The real matrix product:\n",
      " [[ 22  28]\n",
      " [ 49  64]\n",
      " [ 76 100]\n",
      " [103 136]\n",
      " [130 172]]\n"
     ]
    }
   ],
   "execution_count": 156
  },
  {
   "metadata": {},
   "cell_type": "markdown",
   "source": "Task 9",
   "id": "e2bb0af39d4c069e"
  },
  {
   "metadata": {
    "ExecuteTime": {
     "end_time": "2025-03-11T14:26:28.837945Z",
     "start_time": "2025-03-11T14:26:28.830973Z"
    }
   },
   "cell_type": "code",
   "source": [
    "a = np.array([[1, 2, 3], [4, 5, 6], [7, 8, 9]])\n",
    "b = np.array([[1, 2, 3], [4, 5, 6], [7, 8, 9]])\n",
    "result = a @ b\n",
    "print(\"The dot product:\\n\", result)"
   ],
   "id": "a348134316485979",
   "outputs": [
    {
     "name": "stdout",
     "output_type": "stream",
     "text": [
      "The dot product:\n",
      " [[ 30  36  42]\n",
      " [ 66  81  96]\n",
      " [102 126 150]]\n"
     ]
    }
   ],
   "execution_count": 157
  },
  {
   "metadata": {},
   "cell_type": "markdown",
   "source": "Task 10",
   "id": "cc57e83567445ca5"
  },
  {
   "metadata": {
    "ExecuteTime": {
     "end_time": "2025-03-11T14:29:43.757922Z",
     "start_time": "2025-03-11T14:29:43.749847Z"
    }
   },
   "cell_type": "code",
   "source": [
    "# Create two 3x3 matrices and compute their dot product\n",
    "a = np.array([[1, 2, 3, 4], [5, 6, 7, 8], [9, 10, 11, 12], [13, 14, 15, 16]])\n",
    "print(\"The transpose:\\n\", a.transpose())"
   ],
   "id": "58ba1eeb8ea76901",
   "outputs": [
    {
     "name": "stdout",
     "output_type": "stream",
     "text": [
      "The transpose:\n",
      " [[ 1  5  9 13]\n",
      " [ 2  6 10 14]\n",
      " [ 3  7 11 15]\n",
      " [ 4  8 12 16]]\n"
     ]
    }
   ],
   "execution_count": 161
  },
  {
   "metadata": {},
   "cell_type": "markdown",
   "source": "Task 11",
   "id": "ce67583724c37ed6"
  },
  {
   "metadata": {
    "ExecuteTime": {
     "end_time": "2025-03-11T14:31:56.162396Z",
     "start_time": "2025-03-11T14:31:56.143611Z"
    }
   },
   "cell_type": "code",
   "source": [
    "a = np.array([[1, 2, 3], [4, 5, 6], [7, 8, 9]])\n",
    "print(\"The determinant of the array:\\n\", np.linalg.det(a))"
   ],
   "id": "8641dcc622577b46",
   "outputs": [
    {
     "name": "stdout",
     "output_type": "stream",
     "text": [
      "The determinant of the array:\n",
      " -9.51619735392994e-16\n"
     ]
    }
   ],
   "execution_count": 162
  },
  {
   "metadata": {},
   "cell_type": "markdown",
   "source": "Task 12",
   "id": "e814c6086bc374df"
  },
  {
   "metadata": {
    "ExecuteTime": {
     "end_time": "2025-03-11T15:04:50.550680Z",
     "start_time": "2025-03-11T15:04:50.528964Z"
    }
   },
   "cell_type": "code",
   "source": [
    "a = np.array([[1, 2, 3, 4], [5, 6, 7, 8], [9, 10, 11, 12]])\n",
    "b = np.array([[1, 2, 3], [4, 5, 6], [7, 8, 9], [10, 11, 12]])\n",
    "print(\"The dot product:\\n\", np.dot(a, b))"
   ],
   "id": "932578b9bcf9517",
   "outputs": [
    {
     "name": "stdout",
     "output_type": "stream",
     "text": [
      "The dot product:\n",
      " [[ 70  80  90]\n",
      " [158 184 210]\n",
      " [246 288 330]]\n"
     ]
    }
   ],
   "execution_count": 168
  },
  {
   "metadata": {},
   "cell_type": "markdown",
   "source": "Task 13",
   "id": "258e867a56ce71a5"
  },
  {
   "metadata": {
    "ExecuteTime": {
     "end_time": "2025-03-11T15:06:01.542400Z",
     "start_time": "2025-03-11T15:06:01.532948Z"
    }
   },
   "cell_type": "code",
   "source": [
    "a = np.array([[1, 2, 3], [4, 5, 6], [7, 8, 9]])\n",
    "b = np.array([[1], [2], [3]])\n",
    "result = a @ b\n",
    "print(\"The dot product:\\n\", result)"
   ],
   "id": "7145613e57bf0394",
   "outputs": [
    {
     "name": "stdout",
     "output_type": "stream",
     "text": [
      "The dot product:\n",
      " [[14]\n",
      " [32]\n",
      " [50]]\n"
     ]
    }
   ],
   "execution_count": 169
  },
  {
   "metadata": {},
   "cell_type": "markdown",
   "source": "Task 14",
   "id": "8a526b691b9e1f1a"
  },
  {
   "metadata": {
    "ExecuteTime": {
     "end_time": "2025-03-11T15:09:53.861490Z",
     "start_time": "2025-03-11T15:09:53.839490Z"
    }
   },
   "cell_type": "code",
   "source": [
    "a = np.array([[1, 2, 3], [4, 5, 6], [7, 8, 9]])\n",
    "b = np.array([[1], [2], [3]])\n",
    "x = np.linalg.solve(a, b)\n",
    "print(\"The solution:\\n\", x)"
   ],
   "id": "80458579386af101",
   "outputs": [
    {
     "name": "stdout",
     "output_type": "stream",
     "text": [
      "The solution:\n",
      " [[-0.33333]\n",
      " [ 0.66667]\n",
      " [ 0.     ]]\n"
     ]
    }
   ],
   "execution_count": 170
  },
  {
   "metadata": {},
   "cell_type": "markdown",
   "source": "Task 15",
   "id": "5d8cf273562b2c18"
  },
  {
   "metadata": {
    "ExecuteTime": {
     "end_time": "2025-03-11T15:13:59.767093Z",
     "start_time": "2025-03-11T15:13:59.756755Z"
    }
   },
   "cell_type": "code",
   "source": [
    "a = np.array([[1, 2, 3, 4, 5], [6, 7, 8, 9, 10], [11, 12, 13, 14, 15], [16, 17, 18, 19, 20], [21, 22, 23, 24, 25]])\n",
    "row_sums = a.sum(axis=1)\n",
    "column_sums = a.sum(axis=0)\n",
    "print(\"The row wise sum:\\n\", row_sums)\n",
    "print(\"The column wise sum:\\n\", column_sums)"
   ],
   "id": "337e5ce951ec7328",
   "outputs": [
    {
     "name": "stdout",
     "output_type": "stream",
     "text": [
      "The row wise sum:\n",
      " [ 15  40  65  90 115]\n",
      "The column wise sum:\n",
      " [55 60 65 70 75]\n"
     ]
    }
   ],
   "execution_count": 172
  }
 ],
 "metadata": {
  "kernelspec": {
   "display_name": "Python 3",
   "language": "python",
   "name": "python3"
  },
  "language_info": {
   "codemirror_mode": {
    "name": "ipython",
    "version": 2
   },
   "file_extension": ".py",
   "mimetype": "text/x-python",
   "name": "python",
   "nbconvert_exporter": "python",
   "pygments_lexer": "ipython2",
   "version": "2.7.6"
  }
 },
 "nbformat": 4,
 "nbformat_minor": 5
}
